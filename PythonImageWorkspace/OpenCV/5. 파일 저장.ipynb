{
 "cells": [
  {
   "cell_type": "markdown",
   "source": [
    "# 5. 파일 저장"
   ],
   "metadata": {
    "collapsed": false
   }
  },
  {
   "cell_type": "markdown",
   "source": [
    "## 이미지 저장"
   ],
   "metadata": {
    "collapsed": false
   }
  },
  {
   "cell_type": "code",
   "execution_count": 4,
   "metadata": {
    "collapsed": true
   },
   "outputs": [
    {
     "data": {
      "text/plain": "True"
     },
     "execution_count": 4,
     "metadata": {},
     "output_type": "execute_result"
    }
   ],
   "source": [
    "import cv2\n",
    "img = cv2.imread(\"img.jpg\", cv2.IMREAD_GRAYSCALE) # 흑백으로 이미지 불러오기\n",
    "cv2.imwrite(\"img_save.png\", img)"
   ]
  },
  {
   "cell_type": "markdown",
   "source": [
    "## 동영상 저장"
   ],
   "metadata": {
    "collapsed": false
   }
  },
  {
   "cell_type": "code",
   "execution_count": 6,
   "outputs": [],
   "source": [
    "import cv2\n",
    "cap = cv2.VideoCapture('video.mp4')\n",
    "\n",
    "# 코덱 정의\n",
    "fourcc = cv2.VideoWriter_fourcc(*\"DIVX\")\n",
    "\n",
    "width = round(cap.get(cv2.CAP_PROP_FRAME_WIDTH))\n",
    "height = round(cap.get(cv2.CAP_PROP_FRAME_HEIGHT))\n",
    "fps = cap.get(cv2.CAP_PROP_FPS) # * 2, 2배 속도로 저장\n",
    "\n",
    "out = cv2.VideoWriter('output.avi', fourcc, fps, (width, height))\n",
    "# 저장 파일명, 코덱, fps, 크기, (width, height)\n",
    "\n",
    "while cap.isOpened(): # 동영상 파일이 올바로 열렸는지?\n",
    "    ret, frame = cap.read() # ret : 성공 여부, frame : 받아온 이미지 (프레임)\n",
    "    if not ret:\n",
    "        break\n",
    "\n",
    "    out.write(frame)\n",
    "    cv2.imshow(\"video\", frame) # 영상 데이터만 저장 소리 X\n",
    "    if cv2.waitKey(1) == ord(\"q\"): # 영상 속도\n",
    "        break\n",
    "\n",
    "out.release() # 자원 해제\n",
    "cap.release()\n",
    "cv2.destroyAllWindows()\n",
    "for i in range (1,5): # m1 창 안 닫힐때\n",
    "    cv2.waitKey(1)"
   ],
   "metadata": {
    "collapsed": false
   }
  }
 ],
 "metadata": {
  "kernelspec": {
   "display_name": "Python 3",
   "language": "python",
   "name": "python3"
  },
  "language_info": {
   "codemirror_mode": {
    "name": "ipython",
    "version": 2
   },
   "file_extension": ".py",
   "mimetype": "text/x-python",
   "name": "python",
   "nbconvert_exporter": "python",
   "pygments_lexer": "ipython2",
   "version": "2.7.6"
  }
 },
 "nbformat": 4,
 "nbformat_minor": 0
}
